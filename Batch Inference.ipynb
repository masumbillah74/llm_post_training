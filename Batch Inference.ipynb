{
 "cells": [
  {
   "cell_type": "code",
   "execution_count": 1,
   "id": "c81f0077-b21c-4c82-be8b-e8b950fa4c33",
   "metadata": {},
   "outputs": [
    {
     "name": "stderr",
     "output_type": "stream",
     "text": [
      "/Users/masumbillah/Desktop/virtual_envs/llm/lib/python3.9/site-packages/urllib3/__init__.py:35: NotOpenSSLWarning: urllib3 v2 only supports OpenSSL 1.1.1+, currently the 'ssl' module is compiled with 'LibreSSL 2.8.3'. See: https://github.com/urllib3/urllib3/issues/3020\n",
      "  warnings.warn(\n",
      "/Users/masumbillah/Desktop/virtual_envs/llm/lib/python3.9/site-packages/tqdm/auto.py:21: TqdmWarning: IProgress not found. Please update jupyter and ipywidgets. See https://ipywidgets.readthedocs.io/en/stable/user_install.html\n",
      "  from .autonotebook import tqdm as notebook_tqdm\n"
     ]
    }
   ],
   "source": [
    "import torch\n",
    "from transformers import AutoModelForCausalLM, AutoTokenizer, TextIteratorStreamer\n",
    "from IPython.display import display, clear_output, Markdown\n",
    "import sys\n",
    "import transformers\n",
    "from typing import Optional, List\n",
    "from threading import Thread\n",
    "import pandas as pd\n",
    "import time"
   ]
  },
  {
   "cell_type": "markdown",
   "id": "7426927f-a51b-4ffe-8677-6c806a364355",
   "metadata": {},
   "source": [
    "## Load model and tokenizer"
   ]
  },
  {
   "cell_type": "code",
   "execution_count": 2,
   "id": "0fb23e5d-3950-4988-944f-773a0df83af8",
   "metadata": {
    "scrolled": true
   },
   "outputs": [
    {
     "name": "stderr",
     "output_type": "stream",
     "text": [
      "Loading checkpoint shards: 100%|███████████████████████████████████████████████████████████████████████████████████████| 5/5 [00:00<00:00, 10.93it/s]\n"
     ]
    },
    {
     "data": {
      "text/plain": [
       "MllamaForCausalLM(\n",
       "  (model): MllamaTextModel(\n",
       "    (embed_tokens): Embedding(128264, 4096, padding_idx=128004)\n",
       "    (layers): ModuleList(\n",
       "      (0-2): 3 x MllamaSelfAttentionDecoderLayer(\n",
       "        (self_attn): MllamaTextSelfSdpaAttention(\n",
       "          (q_proj): Linear(in_features=4096, out_features=4096, bias=False)\n",
       "          (k_proj): Linear(in_features=4096, out_features=1024, bias=False)\n",
       "          (v_proj): Linear(in_features=4096, out_features=1024, bias=False)\n",
       "          (o_proj): Linear(in_features=4096, out_features=4096, bias=False)\n",
       "        )\n",
       "        (mlp): MllamaTextMLP(\n",
       "          (gate_proj): Linear(in_features=4096, out_features=14336, bias=False)\n",
       "          (up_proj): Linear(in_features=4096, out_features=14336, bias=False)\n",
       "          (down_proj): Linear(in_features=14336, out_features=4096, bias=False)\n",
       "          (act_fn): SiLU()\n",
       "        )\n",
       "        (input_layernorm): MllamaTextRMSNorm((4096,), eps=1e-05)\n",
       "        (post_attention_layernorm): MllamaTextRMSNorm((4096,), eps=1e-05)\n",
       "      )\n",
       "      (3): MllamaCrossAttentionDecoderLayer(\n",
       "        (cross_attn): MllamaTextCrossSdpaAttention(\n",
       "          (q_proj): Linear(in_features=4096, out_features=4096, bias=False)\n",
       "          (k_proj): Linear(in_features=4096, out_features=1024, bias=False)\n",
       "          (v_proj): Linear(in_features=4096, out_features=1024, bias=False)\n",
       "          (o_proj): Linear(in_features=4096, out_features=4096, bias=False)\n",
       "          (q_norm): MllamaTextRMSNorm((128,), eps=1e-05)\n",
       "          (k_norm): MllamaTextRMSNorm((128,), eps=1e-05)\n",
       "        )\n",
       "        (input_layernorm): MllamaTextRMSNorm((4096,), eps=1e-05)\n",
       "        (mlp): MllamaTextMLP(\n",
       "          (gate_proj): Linear(in_features=4096, out_features=14336, bias=False)\n",
       "          (up_proj): Linear(in_features=4096, out_features=14336, bias=False)\n",
       "          (down_proj): Linear(in_features=14336, out_features=4096, bias=False)\n",
       "          (act_fn): SiLU()\n",
       "        )\n",
       "        (post_attention_layernorm): MllamaTextRMSNorm((4096,), eps=1e-05)\n",
       "      )\n",
       "      (4-7): 4 x MllamaSelfAttentionDecoderLayer(\n",
       "        (self_attn): MllamaTextSelfSdpaAttention(\n",
       "          (q_proj): Linear(in_features=4096, out_features=4096, bias=False)\n",
       "          (k_proj): Linear(in_features=4096, out_features=1024, bias=False)\n",
       "          (v_proj): Linear(in_features=4096, out_features=1024, bias=False)\n",
       "          (o_proj): Linear(in_features=4096, out_features=4096, bias=False)\n",
       "        )\n",
       "        (mlp): MllamaTextMLP(\n",
       "          (gate_proj): Linear(in_features=4096, out_features=14336, bias=False)\n",
       "          (up_proj): Linear(in_features=4096, out_features=14336, bias=False)\n",
       "          (down_proj): Linear(in_features=14336, out_features=4096, bias=False)\n",
       "          (act_fn): SiLU()\n",
       "        )\n",
       "        (input_layernorm): MllamaTextRMSNorm((4096,), eps=1e-05)\n",
       "        (post_attention_layernorm): MllamaTextRMSNorm((4096,), eps=1e-05)\n",
       "      )\n",
       "      (8): MllamaCrossAttentionDecoderLayer(\n",
       "        (cross_attn): MllamaTextCrossSdpaAttention(\n",
       "          (q_proj): Linear(in_features=4096, out_features=4096, bias=False)\n",
       "          (k_proj): Linear(in_features=4096, out_features=1024, bias=False)\n",
       "          (v_proj): Linear(in_features=4096, out_features=1024, bias=False)\n",
       "          (o_proj): Linear(in_features=4096, out_features=4096, bias=False)\n",
       "          (q_norm): MllamaTextRMSNorm((128,), eps=1e-05)\n",
       "          (k_norm): MllamaTextRMSNorm((128,), eps=1e-05)\n",
       "        )\n",
       "        (input_layernorm): MllamaTextRMSNorm((4096,), eps=1e-05)\n",
       "        (mlp): MllamaTextMLP(\n",
       "          (gate_proj): Linear(in_features=4096, out_features=14336, bias=False)\n",
       "          (up_proj): Linear(in_features=4096, out_features=14336, bias=False)\n",
       "          (down_proj): Linear(in_features=14336, out_features=4096, bias=False)\n",
       "          (act_fn): SiLU()\n",
       "        )\n",
       "        (post_attention_layernorm): MllamaTextRMSNorm((4096,), eps=1e-05)\n",
       "      )\n",
       "      (9-12): 4 x MllamaSelfAttentionDecoderLayer(\n",
       "        (self_attn): MllamaTextSelfSdpaAttention(\n",
       "          (q_proj): Linear(in_features=4096, out_features=4096, bias=False)\n",
       "          (k_proj): Linear(in_features=4096, out_features=1024, bias=False)\n",
       "          (v_proj): Linear(in_features=4096, out_features=1024, bias=False)\n",
       "          (o_proj): Linear(in_features=4096, out_features=4096, bias=False)\n",
       "        )\n",
       "        (mlp): MllamaTextMLP(\n",
       "          (gate_proj): Linear(in_features=4096, out_features=14336, bias=False)\n",
       "          (up_proj): Linear(in_features=4096, out_features=14336, bias=False)\n",
       "          (down_proj): Linear(in_features=14336, out_features=4096, bias=False)\n",
       "          (act_fn): SiLU()\n",
       "        )\n",
       "        (input_layernorm): MllamaTextRMSNorm((4096,), eps=1e-05)\n",
       "        (post_attention_layernorm): MllamaTextRMSNorm((4096,), eps=1e-05)\n",
       "      )\n",
       "      (13): MllamaCrossAttentionDecoderLayer(\n",
       "        (cross_attn): MllamaTextCrossSdpaAttention(\n",
       "          (q_proj): Linear(in_features=4096, out_features=4096, bias=False)\n",
       "          (k_proj): Linear(in_features=4096, out_features=1024, bias=False)\n",
       "          (v_proj): Linear(in_features=4096, out_features=1024, bias=False)\n",
       "          (o_proj): Linear(in_features=4096, out_features=4096, bias=False)\n",
       "          (q_norm): MllamaTextRMSNorm((128,), eps=1e-05)\n",
       "          (k_norm): MllamaTextRMSNorm((128,), eps=1e-05)\n",
       "        )\n",
       "        (input_layernorm): MllamaTextRMSNorm((4096,), eps=1e-05)\n",
       "        (mlp): MllamaTextMLP(\n",
       "          (gate_proj): Linear(in_features=4096, out_features=14336, bias=False)\n",
       "          (up_proj): Linear(in_features=4096, out_features=14336, bias=False)\n",
       "          (down_proj): Linear(in_features=14336, out_features=4096, bias=False)\n",
       "          (act_fn): SiLU()\n",
       "        )\n",
       "        (post_attention_layernorm): MllamaTextRMSNorm((4096,), eps=1e-05)\n",
       "      )\n",
       "      (14-17): 4 x MllamaSelfAttentionDecoderLayer(\n",
       "        (self_attn): MllamaTextSelfSdpaAttention(\n",
       "          (q_proj): Linear(in_features=4096, out_features=4096, bias=False)\n",
       "          (k_proj): Linear(in_features=4096, out_features=1024, bias=False)\n",
       "          (v_proj): Linear(in_features=4096, out_features=1024, bias=False)\n",
       "          (o_proj): Linear(in_features=4096, out_features=4096, bias=False)\n",
       "        )\n",
       "        (mlp): MllamaTextMLP(\n",
       "          (gate_proj): Linear(in_features=4096, out_features=14336, bias=False)\n",
       "          (up_proj): Linear(in_features=4096, out_features=14336, bias=False)\n",
       "          (down_proj): Linear(in_features=14336, out_features=4096, bias=False)\n",
       "          (act_fn): SiLU()\n",
       "        )\n",
       "        (input_layernorm): MllamaTextRMSNorm((4096,), eps=1e-05)\n",
       "        (post_attention_layernorm): MllamaTextRMSNorm((4096,), eps=1e-05)\n",
       "      )\n",
       "      (18): MllamaCrossAttentionDecoderLayer(\n",
       "        (cross_attn): MllamaTextCrossSdpaAttention(\n",
       "          (q_proj): Linear(in_features=4096, out_features=4096, bias=False)\n",
       "          (k_proj): Linear(in_features=4096, out_features=1024, bias=False)\n",
       "          (v_proj): Linear(in_features=4096, out_features=1024, bias=False)\n",
       "          (o_proj): Linear(in_features=4096, out_features=4096, bias=False)\n",
       "          (q_norm): MllamaTextRMSNorm((128,), eps=1e-05)\n",
       "          (k_norm): MllamaTextRMSNorm((128,), eps=1e-05)\n",
       "        )\n",
       "        (input_layernorm): MllamaTextRMSNorm((4096,), eps=1e-05)\n",
       "        (mlp): MllamaTextMLP(\n",
       "          (gate_proj): Linear(in_features=4096, out_features=14336, bias=False)\n",
       "          (up_proj): Linear(in_features=4096, out_features=14336, bias=False)\n",
       "          (down_proj): Linear(in_features=14336, out_features=4096, bias=False)\n",
       "          (act_fn): SiLU()\n",
       "        )\n",
       "        (post_attention_layernorm): MllamaTextRMSNorm((4096,), eps=1e-05)\n",
       "      )\n",
       "      (19-22): 4 x MllamaSelfAttentionDecoderLayer(\n",
       "        (self_attn): MllamaTextSelfSdpaAttention(\n",
       "          (q_proj): Linear(in_features=4096, out_features=4096, bias=False)\n",
       "          (k_proj): Linear(in_features=4096, out_features=1024, bias=False)\n",
       "          (v_proj): Linear(in_features=4096, out_features=1024, bias=False)\n",
       "          (o_proj): Linear(in_features=4096, out_features=4096, bias=False)\n",
       "        )\n",
       "        (mlp): MllamaTextMLP(\n",
       "          (gate_proj): Linear(in_features=4096, out_features=14336, bias=False)\n",
       "          (up_proj): Linear(in_features=4096, out_features=14336, bias=False)\n",
       "          (down_proj): Linear(in_features=14336, out_features=4096, bias=False)\n",
       "          (act_fn): SiLU()\n",
       "        )\n",
       "        (input_layernorm): MllamaTextRMSNorm((4096,), eps=1e-05)\n",
       "        (post_attention_layernorm): MllamaTextRMSNorm((4096,), eps=1e-05)\n",
       "      )\n",
       "      (23): MllamaCrossAttentionDecoderLayer(\n",
       "        (cross_attn): MllamaTextCrossSdpaAttention(\n",
       "          (q_proj): Linear(in_features=4096, out_features=4096, bias=False)\n",
       "          (k_proj): Linear(in_features=4096, out_features=1024, bias=False)\n",
       "          (v_proj): Linear(in_features=4096, out_features=1024, bias=False)\n",
       "          (o_proj): Linear(in_features=4096, out_features=4096, bias=False)\n",
       "          (q_norm): MllamaTextRMSNorm((128,), eps=1e-05)\n",
       "          (k_norm): MllamaTextRMSNorm((128,), eps=1e-05)\n",
       "        )\n",
       "        (input_layernorm): MllamaTextRMSNorm((4096,), eps=1e-05)\n",
       "        (mlp): MllamaTextMLP(\n",
       "          (gate_proj): Linear(in_features=4096, out_features=14336, bias=False)\n",
       "          (up_proj): Linear(in_features=4096, out_features=14336, bias=False)\n",
       "          (down_proj): Linear(in_features=14336, out_features=4096, bias=False)\n",
       "          (act_fn): SiLU()\n",
       "        )\n",
       "        (post_attention_layernorm): MllamaTextRMSNorm((4096,), eps=1e-05)\n",
       "      )\n",
       "      (24-27): 4 x MllamaSelfAttentionDecoderLayer(\n",
       "        (self_attn): MllamaTextSelfSdpaAttention(\n",
       "          (q_proj): Linear(in_features=4096, out_features=4096, bias=False)\n",
       "          (k_proj): Linear(in_features=4096, out_features=1024, bias=False)\n",
       "          (v_proj): Linear(in_features=4096, out_features=1024, bias=False)\n",
       "          (o_proj): Linear(in_features=4096, out_features=4096, bias=False)\n",
       "        )\n",
       "        (mlp): MllamaTextMLP(\n",
       "          (gate_proj): Linear(in_features=4096, out_features=14336, bias=False)\n",
       "          (up_proj): Linear(in_features=4096, out_features=14336, bias=False)\n",
       "          (down_proj): Linear(in_features=14336, out_features=4096, bias=False)\n",
       "          (act_fn): SiLU()\n",
       "        )\n",
       "        (input_layernorm): MllamaTextRMSNorm((4096,), eps=1e-05)\n",
       "        (post_attention_layernorm): MllamaTextRMSNorm((4096,), eps=1e-05)\n",
       "      )\n",
       "      (28): MllamaCrossAttentionDecoderLayer(\n",
       "        (cross_attn): MllamaTextCrossSdpaAttention(\n",
       "          (q_proj): Linear(in_features=4096, out_features=4096, bias=False)\n",
       "          (k_proj): Linear(in_features=4096, out_features=1024, bias=False)\n",
       "          (v_proj): Linear(in_features=4096, out_features=1024, bias=False)\n",
       "          (o_proj): Linear(in_features=4096, out_features=4096, bias=False)\n",
       "          (q_norm): MllamaTextRMSNorm((128,), eps=1e-05)\n",
       "          (k_norm): MllamaTextRMSNorm((128,), eps=1e-05)\n",
       "        )\n",
       "        (input_layernorm): MllamaTextRMSNorm((4096,), eps=1e-05)\n",
       "        (mlp): MllamaTextMLP(\n",
       "          (gate_proj): Linear(in_features=4096, out_features=14336, bias=False)\n",
       "          (up_proj): Linear(in_features=4096, out_features=14336, bias=False)\n",
       "          (down_proj): Linear(in_features=14336, out_features=4096, bias=False)\n",
       "          (act_fn): SiLU()\n",
       "        )\n",
       "        (post_attention_layernorm): MllamaTextRMSNorm((4096,), eps=1e-05)\n",
       "      )\n",
       "      (29-32): 4 x MllamaSelfAttentionDecoderLayer(\n",
       "        (self_attn): MllamaTextSelfSdpaAttention(\n",
       "          (q_proj): Linear(in_features=4096, out_features=4096, bias=False)\n",
       "          (k_proj): Linear(in_features=4096, out_features=1024, bias=False)\n",
       "          (v_proj): Linear(in_features=4096, out_features=1024, bias=False)\n",
       "          (o_proj): Linear(in_features=4096, out_features=4096, bias=False)\n",
       "        )\n",
       "        (mlp): MllamaTextMLP(\n",
       "          (gate_proj): Linear(in_features=4096, out_features=14336, bias=False)\n",
       "          (up_proj): Linear(in_features=4096, out_features=14336, bias=False)\n",
       "          (down_proj): Linear(in_features=14336, out_features=4096, bias=False)\n",
       "          (act_fn): SiLU()\n",
       "        )\n",
       "        (input_layernorm): MllamaTextRMSNorm((4096,), eps=1e-05)\n",
       "        (post_attention_layernorm): MllamaTextRMSNorm((4096,), eps=1e-05)\n",
       "      )\n",
       "      (33): MllamaCrossAttentionDecoderLayer(\n",
       "        (cross_attn): MllamaTextCrossSdpaAttention(\n",
       "          (q_proj): Linear(in_features=4096, out_features=4096, bias=False)\n",
       "          (k_proj): Linear(in_features=4096, out_features=1024, bias=False)\n",
       "          (v_proj): Linear(in_features=4096, out_features=1024, bias=False)\n",
       "          (o_proj): Linear(in_features=4096, out_features=4096, bias=False)\n",
       "          (q_norm): MllamaTextRMSNorm((128,), eps=1e-05)\n",
       "          (k_norm): MllamaTextRMSNorm((128,), eps=1e-05)\n",
       "        )\n",
       "        (input_layernorm): MllamaTextRMSNorm((4096,), eps=1e-05)\n",
       "        (mlp): MllamaTextMLP(\n",
       "          (gate_proj): Linear(in_features=4096, out_features=14336, bias=False)\n",
       "          (up_proj): Linear(in_features=4096, out_features=14336, bias=False)\n",
       "          (down_proj): Linear(in_features=14336, out_features=4096, bias=False)\n",
       "          (act_fn): SiLU()\n",
       "        )\n",
       "        (post_attention_layernorm): MllamaTextRMSNorm((4096,), eps=1e-05)\n",
       "      )\n",
       "      (34-37): 4 x MllamaSelfAttentionDecoderLayer(\n",
       "        (self_attn): MllamaTextSelfSdpaAttention(\n",
       "          (q_proj): Linear(in_features=4096, out_features=4096, bias=False)\n",
       "          (k_proj): Linear(in_features=4096, out_features=1024, bias=False)\n",
       "          (v_proj): Linear(in_features=4096, out_features=1024, bias=False)\n",
       "          (o_proj): Linear(in_features=4096, out_features=4096, bias=False)\n",
       "        )\n",
       "        (mlp): MllamaTextMLP(\n",
       "          (gate_proj): Linear(in_features=4096, out_features=14336, bias=False)\n",
       "          (up_proj): Linear(in_features=4096, out_features=14336, bias=False)\n",
       "          (down_proj): Linear(in_features=14336, out_features=4096, bias=False)\n",
       "          (act_fn): SiLU()\n",
       "        )\n",
       "        (input_layernorm): MllamaTextRMSNorm((4096,), eps=1e-05)\n",
       "        (post_attention_layernorm): MllamaTextRMSNorm((4096,), eps=1e-05)\n",
       "      )\n",
       "      (38): MllamaCrossAttentionDecoderLayer(\n",
       "        (cross_attn): MllamaTextCrossSdpaAttention(\n",
       "          (q_proj): Linear(in_features=4096, out_features=4096, bias=False)\n",
       "          (k_proj): Linear(in_features=4096, out_features=1024, bias=False)\n",
       "          (v_proj): Linear(in_features=4096, out_features=1024, bias=False)\n",
       "          (o_proj): Linear(in_features=4096, out_features=4096, bias=False)\n",
       "          (q_norm): MllamaTextRMSNorm((128,), eps=1e-05)\n",
       "          (k_norm): MllamaTextRMSNorm((128,), eps=1e-05)\n",
       "        )\n",
       "        (input_layernorm): MllamaTextRMSNorm((4096,), eps=1e-05)\n",
       "        (mlp): MllamaTextMLP(\n",
       "          (gate_proj): Linear(in_features=4096, out_features=14336, bias=False)\n",
       "          (up_proj): Linear(in_features=4096, out_features=14336, bias=False)\n",
       "          (down_proj): Linear(in_features=14336, out_features=4096, bias=False)\n",
       "          (act_fn): SiLU()\n",
       "        )\n",
       "        (post_attention_layernorm): MllamaTextRMSNorm((4096,), eps=1e-05)\n",
       "      )\n",
       "      (39): MllamaSelfAttentionDecoderLayer(\n",
       "        (self_attn): MllamaTextSelfSdpaAttention(\n",
       "          (q_proj): Linear(in_features=4096, out_features=4096, bias=False)\n",
       "          (k_proj): Linear(in_features=4096, out_features=1024, bias=False)\n",
       "          (v_proj): Linear(in_features=4096, out_features=1024, bias=False)\n",
       "          (o_proj): Linear(in_features=4096, out_features=4096, bias=False)\n",
       "        )\n",
       "        (mlp): MllamaTextMLP(\n",
       "          (gate_proj): Linear(in_features=4096, out_features=14336, bias=False)\n",
       "          (up_proj): Linear(in_features=4096, out_features=14336, bias=False)\n",
       "          (down_proj): Linear(in_features=14336, out_features=4096, bias=False)\n",
       "          (act_fn): SiLU()\n",
       "        )\n",
       "        (input_layernorm): MllamaTextRMSNorm((4096,), eps=1e-05)\n",
       "        (post_attention_layernorm): MllamaTextRMSNorm((4096,), eps=1e-05)\n",
       "      )\n",
       "    )\n",
       "    (norm): MllamaTextRMSNorm((4096,), eps=1e-05)\n",
       "    (rotary_emb): MllamaRotaryEmbedding()\n",
       "  )\n",
       "  (lm_head): Linear(in_features=4096, out_features=128256, bias=False)\n",
       ")"
      ]
     },
     "execution_count": 2,
     "metadata": {},
     "output_type": "execute_result"
    }
   ],
   "source": [
    "model_folder = \"llama/\"\n",
    "tokenizer_folder = 'processor/'\n",
    "\n",
    "device = 'cuda' if torch.cuda.is_available() else 'mps' if torch.backends.mps.is_available() else 'cpu'\n",
    "\n",
    "tokenizer = AutoTokenizer.from_pretrained(tokenizer_folder)\n",
    "tokenizer.pad_token = tokenizer.eos_token  # Ensure padding token is set\n",
    "\n",
    "model = AutoModelForCausalLM.from_pretrained(model_folder, torch_dtype=torch.bfloat16)\n",
    "model = model.to(torch.device(device))\n",
    "model.eval()"
   ]
  },
  {
   "cell_type": "markdown",
   "id": "dfd478db-5c90-4dd0-88b2-aeb6911f020f",
   "metadata": {},
   "source": [
    "## Define the class to stream generated tokens"
   ]
  },
  {
   "cell_type": "code",
   "execution_count": 3,
   "id": "fd341831-972c-4d5c-ae53-2f7843a87b2d",
   "metadata": {},
   "outputs": [],
   "source": [
    "class BatchTextIteratorStreamer(TextIteratorStreamer):\n",
    "    def __init__(self, batch_size:int, tokenizer: \"AutoTokenizer\", skip_prompt: bool = False, timeout: Optional[float] = None, **decode_kwargs):\n",
    "        super().__init__(tokenizer, skip_prompt, timeout, **decode_kwargs)\n",
    "        self.batch_size = batch_size\n",
    "        self.token_cache = [[] for _ in range(batch_size)]\n",
    "        self.print_len = [0 for _ in range(batch_size)]\n",
    "        self.generate_exception = None\n",
    "\n",
    "    def put(self, value):\n",
    "        if len(value.shape) != 2:\n",
    "            value = torch.reshape(value, (self.batch_size, value.shape[0] // self.batch_size))\n",
    "\n",
    "        if self.skip_prompt and self.next_tokens_are_prompt:\n",
    "            self.next_tokens_are_prompt = False\n",
    "            return\n",
    "\n",
    "        printable_texts = list()\n",
    "        for idx in range(self.batch_size):\n",
    "            self.token_cache[idx].extend(value[idx].tolist())\n",
    "            text = self.tokenizer.decode(self.token_cache[idx], **self.decode_kwargs)\n",
    "\n",
    "            if text.endswith(\"\\n\"):\n",
    "                printable_text = text[self.print_len[idx] :]\n",
    "                self.token_cache[idx] = []\n",
    "                self.print_len[idx] = 0\n",
    "                # If the last token is a CJK character, we print the characters.\n",
    "            elif len(text) > 0 and self._is_chinese_char(ord(text[-1])):\n",
    "                printable_text = text[self.print_len[idx] :]\n",
    "                self.print_len[idx] += len(printable_text)\n",
    "            else:\n",
    "                printable_text = text[self.print_len[idx] : text.rfind(\" \") + 1]\n",
    "                self.print_len[idx] += len(printable_text)\n",
    "            printable_texts.append(printable_text)\n",
    "\n",
    "        self.on_finalized_text(printable_texts)\n",
    "\n",
    "    def end(self):\n",
    "        printable_texts = list()\n",
    "        for idx in range(self.batch_size):\n",
    "            if len(self.token_cache[idx]) > 0:\n",
    "                text = self.tokenizer.decode(self.token_cache[idx], **self.decode_kwargs)\n",
    "                printable_text = text[self.print_len[idx] :]\n",
    "                self.token_cache[idx] = []\n",
    "                self.print_len[idx] = 0\n",
    "            else:\n",
    "                printable_text = \"\"\n",
    "            printable_texts.append(printable_text)\n",
    "\n",
    "        self.next_tokens_are_prompt = True\n",
    "        self.on_finalized_text(printable_texts, stream_end=True)\n",
    "\n",
    "    def on_finalized_text(self, texts: List[str], stream_end: bool = False):\n",
    "        self.text_queue.put(texts, timeout=self.timeout)\n",
    "        if stream_end:\n",
    "            self.text_queue.put(self.stop_signal, timeout=self.timeout)\n"
   ]
  },
  {
   "cell_type": "markdown",
   "id": "ef4724f8-a6f9-4ef2-bd56-2c2df0d5d64e",
   "metadata": {},
   "source": [
    "## Generate outputs"
   ]
  },
  {
   "cell_type": "code",
   "execution_count": 43,
   "id": "ee76365b-598f-4492-9f5c-8b8b8df69c16",
   "metadata": {},
   "outputs": [
    {
     "data": {
      "text/markdown": [
       "# What are the key concepts in chemistry?\n",
       "   The  key  concepts  in  chemistry  are  the  fundamental  ideas  that   underlie  the  study  of   chemistry.  These  concepts  are  the  building  blocks  of  chemistry  and  are  essential  for  understanding  the   subject.  Some  of  the  key  concepts  in  chemistry  include:\n",
       "   1.  Atomic   structure:  The  study  of  the  structure  and  properties  of   atoms,  including  the   nucleus,   electrons,  and  electron  configuration.\n",
       "   2.  Chemical   bonding:  The  study  of  the  forces  that  hold  atoms  together  to  form   molecules,  including    covalent   bonds,   ionic   bonds,  and  metallic  bonds.\n",
       "  3"
      ],
      "text/plain": [
       "<IPython.core.display.Markdown object>"
      ]
     },
     "metadata": {},
     "output_type": "display_data"
    },
    {
     "data": {
      "text/markdown": [
       "# How has technology evolved over time?\n",
       " \n",
       "  Technology  has  undergone  significant  transformations  since  the  advent  of  the  first   computer.  The  evolution  of  technology  has  been  a  gradual   process,  with  each  innovation  building  upon  the  last  to  create  the  sophisticated  digital  landscape  we  know   today.  Here  are  some  key  milestones  in  the  evolution  of  technology:\n",
       "   1.      1940s:  The  First  Computer\n",
       "  The  first  electronic   computer,    ENIAC   (Electronic   Numerical   Integrator  and   Computer),  was  developed  in  the      1940s.  This  massive  machine  weighed  over   27  tons  and  used  vacuum"
      ],
      "text/plain": [
       "<IPython.core.display.Markdown object>"
      ]
     },
     "metadata": {},
     "output_type": "display_data"
    },
    {
     "data": {
      "text/markdown": [
       "# How has mathematics evolved over time?\n",
       "   How  has  it  contributed  to  the  development  of  science  and   technology?  This  course  will  take  you  on  a  journey  through  the  history  of   mathematics,  from  ancient  civilizations  to  modern   times,  exploring  key   concepts,   discoveries,  and   innovations.  You  will  analyze  the  impact  of  mathematical  ideas  on  scientific  and  technological   advancements,  and  examine  the  ways  in  which  mathematics  continues  to  shape  our  understanding  of  the  world  and  our  place  in   it.  This  course  is  designed  to  be   engaging,   interactive,  and  accessible  to  students  with  varying  levels  of  mathematical   background.  No  prior"
      ],
      "text/plain": [
       "<IPython.core.display.Markdown object>"
      ]
     },
     "metadata": {},
     "output_type": "display_data"
    },
    {
     "data": {
      "text/markdown": [
       "# Explain the importance of technology in modern society.\n",
       "   How  has  technology  affected  the  way  people   live,   work,  and  interact  with  one  another?\n",
       "  The  importance  of  technology  in  modern  society  cannot  be    overstated.  Technology  has   revolutionized  the  way  people   live,   work,  and  interact  with  one   another,  transforming  every  aspect  of  modern   life.  Here  are  some  key  ways  in  which  technology  has  impacted  society:\n",
       "   1.   Communication:  Technology  has  made  it  possible  for  people  to  communicate  with  each  other   instantly,  regardless  of  their  geographical   location.  With  the  advent  of  social   media,  messaging   apps,  and"
      ],
      "text/plain": [
       "<IPython.core.display.Markdown object>"
      ]
     },
     "metadata": {},
     "output_type": "display_data"
    },
    {
     "data": {
      "text/markdown": [
       "# How can philosophy be applied in real-world scenarios?\n",
       "   Philosophy  has  been  a  part  of  human  inquiry  for   centuries,  and  its  influence  can  be  seen  in  many  areas  of   life.  Here  are  some  examples  of  how  philosophy  can  be  applied  in   real-world  scenarios:\n",
       "\n",
       "   1.       **Decision-making**:  Philosophy  can  help  individuals  make  informed  decisions  by  considering  various   perspectives,  evaluating   evidence,  and  weighing  the  pros  and  cons  of  different  options.\n",
       "   2.       **Ethics**:   Philosophical  principles  can  guide  individuals  in  making  ethical   decisions,  such  as  resolving  moral    dilemmas,  applying  moral  principles  to  complex"
      ],
      "text/plain": [
       "<IPython.core.display.Markdown object>"
      ]
     },
     "metadata": {},
     "output_type": "display_data"
    },
    {
     "data": {
      "text/markdown": [
       "# What are some ethical concerns related to literature?\n",
       "   What  are  some  of  the  ways  that  writers  and  literary  critics  can  address  these  concerns?\n",
       "   Ethical  concerns  related  to  literature  include  issues  such  as   censorship,   plagiarism,  and  the  representation  of  marginalized   groups.  Writers  and  literary  critics  can  address  these  concerns  by  promoting  diversity  and   inclusivity  in   literature,  engaging  in  critical  discussions  about  representation  and  power   dynamics,  and  advocating  for  the  freedom  to  express  oneself  through  writing.\n",
       "  In  what  ways  can  literature  be  used  to  promote  social  change?\n",
       "   Literature  can  be  used  to  promote  social  change  by  providing  a  platform"
      ],
      "text/plain": [
       "<IPython.core.display.Markdown object>"
      ]
     },
     "metadata": {},
     "output_type": "display_data"
    },
    {
     "data": {
      "text/markdown": [
       "# What are some ethical concerns related to economics?\n",
       "   What  are  some  potential  solutions?\n",
       "  There  are  several  ethical  concerns  related  to   economics,  including:\n",
       "   1.    Inequality:  Economic  systems  can  create  significant  income  and  wealth   disparities,  leading  to  social  and  economic  inequality.\n",
       "   2.     Exploitation:  Economic  systems  can  lead  to  the  exploitation  of   workers,  particularly  in  industries  with  low  wages  and  poor  working  conditions.\n",
       "   3.  Environmental   degradation:  Economic  activities  can  harm  the   environment,  leading  to  climate   change,   pollution,  and  loss  of  biodiversity.\n",
       "   4.   Unfair  trade   practices:  Economic  systems  can"
      ],
      "text/plain": [
       "<IPython.core.display.Markdown object>"
      ]
     },
     "metadata": {},
     "output_type": "display_data"
    },
    {
     "data": {
      "text/markdown": [
       "# What are the key concepts in politics?\n",
       " \n",
       "  Politics  is  the  process  of  making  decisions  that  affect  a   community,   country,  or   organization.  Here  are  some  key  concepts  in  politics:\n",
       "   1.   Power:  Power  is  the  ability  to  influence  or  control  the  behavior  of   others.  In   politics,  power  is  often  exercised  by  those  in  positions  of   authority,  such  as   politicians,   bureaucrats,  or  leaders  of  interest  groups.\n",
       "   2.   Authority:  Authority  is  the  right  to  make  decisions  and  enforce  laws  or   policies.  In   politics,  authority  is  often  exercised  by  those  who  have  been  elected  or"
      ],
      "text/plain": [
       "<IPython.core.display.Markdown object>"
      ]
     },
     "metadata": {},
     "output_type": "display_data"
    },
    {
     "data": {
      "text/markdown": [
       "# Explain the importance of science in modern society.\n",
       "    (10  points)\n",
       "  Science  plays  a  crucial  role  in  modern   society,  and  its  importance  cannot  be    overstated.  Here  are  some  reasons  why  science  is  essential:\n",
       "   1.   Technological   advancements:  Science  has  led  to  numerous  technological  innovations  that  have  transformed  our   lives,  such  as   computers,   smartphones,  and  medical   equipment.  These  advancements  have  improved  our  quality  of   life,  increased   productivity,  and  opened  up  new  opportunities  for  economic  growth.\n",
       "   2.  Economic   growth:  Science  and  technology  are  key  drivers  of  economic   growth,  creating  new   industries,  jobs"
      ],
      "text/plain": [
       "<IPython.core.display.Markdown object>"
      ]
     },
     "metadata": {},
     "output_type": "display_data"
    },
    {
     "data": {
      "text/markdown": [
       "# What are the key concepts in physics?\n",
       " \n",
       "  Physics  is  the  study  of  the  natural  world  around   us.  It  involves  the  study  of   matter,   energy,  and  the  fundamental  laws  that  govern  the  behavior  of  the   universe.  Here  are  some  key  concepts  in  physics:\n",
       "   1.  Matter  and   Energy:  Matter  is  anything  that  has  mass  and  takes  up   space,  while  energy  is  the  ability  to  do   work.  The  law  of  conservation  of  energy  states  that  energy  cannot  be  created  or   destroyed,  only  converted  from  one  form  to  another.\n",
       "   2.  Forces  and   Motion:  Forces  are  pushes  or"
      ],
      "text/plain": [
       "<IPython.core.display.Markdown object>"
      ]
     },
     "metadata": {},
     "output_type": "display_data"
    },
    {
     "data": {
      "text/markdown": [
       "# How does ethics impact our daily lives?\n",
       " \n",
       "   Ethics  can  impact  our  daily  lives  in  various   ways,  from  our  personal  relationships  and  interactions  with  others  to  our  professional  and  social   responsibilities.  Here  are  some  ways  ethics  can  influence  our  daily  lives:\n",
       "   1.    Decision-making:  Ethics  can  guide  our   decision-making   process,  helping  us  make  choices  that  are   fair,   just,  and  respectful  of   others.  For   example,  when  faced  with  a  difficult   decision,  we  might  consider  the  potential  impact  on   others,  the  consequences  of  our   actions,  and  the  principles  of  fairness  and  justice.\n",
       "  2"
      ],
      "text/plain": [
       "<IPython.core.display.Markdown object>"
      ]
     },
     "metadata": {},
     "output_type": "display_data"
    },
    {
     "data": {
      "text/markdown": [
       "# What are the biggest challenges in sociology today?\n",
       "  What  are  the  biggest  challenges  in  sociology  today?\n",
       "     Sociology,  as  a   discipline,  has  been  grappling  with  various  challenges  in  recent   years.  Here  are  some  of  the  biggest  challenges  that   sociologists  are  currently  facing:\n",
       "   1.    **Relevance  and   Impact**:   Sociologists  are  constantly  striving  to  demonstrate  the  relevance  and  impact  of  their  research  on   policy,   practice,  and  public   discourse.  In  an  era  of   evidence-based   policy,   sociologists  need  to  communicate  their  findings  in  ways  that  are  accessible  and  actionable  for   policymakers,   practitioners,  and"
      ],
      "text/plain": [
       "<IPython.core.display.Markdown object>"
      ]
     },
     "metadata": {},
     "output_type": "display_data"
    },
    {
     "data": {
      "text/markdown": [
       "# What are some ethical concerns related to psychology?\n",
       " \n",
       "  There  are  several  ethical  concerns  related  to   psychology,  including:\n",
       "   1.   Informed   consent:   Ensuring  that  clients  or  participants  in  research  fully  understand  the  nature  of  the  research  or  treatment  and  provide  their  informed  consent  before  participating.\n",
       "   2.    Confidentiality:   Protecting  the  privacy  and  confidentiality  of   clients'  personal   information,  including  their  mental  health  history  and  treatment  plans.\n",
       "   3.    Boundaries:   Maintaining  appropriate  professional  boundaries  between  psychologists  and  their   clients,  including  avoiding  dual  relationships  and  maintaining  a  professional  distance.\n",
       "   4.  Cultural   sensitivity:"
      ],
      "text/plain": [
       "<IPython.core.display.Markdown object>"
      ]
     },
     "metadata": {},
     "output_type": "display_data"
    },
    {
     "data": {
      "text/markdown": [
       "# What are the key concepts in ethics?\n",
       " \n",
       "    Ethics,  also  known  as  moral   philosophy,  is  a  branch  of  philosophy  that  deals  with  the  principles  and  rules  that  govern  human   behavior.  Here  are  some  key  concepts  in  ethics:\n",
       "   1.  Moral   Principles:  These  are  the  fundamental  principles  that  guide  human   behavior,  such  as  respect  for   autonomy,      non-maleficence   (do  no   harm),    beneficence   (do   good),  and  justice.\n",
       "   2.  Moral    Theories:  These  are  systematic  attempts  to  explain  and  justify  moral   principles,  such  as   consequentialism   (the  view"
      ],
      "text/plain": [
       "<IPython.core.display.Markdown object>"
      ]
     },
     "metadata": {},
     "output_type": "display_data"
    },
    {
     "data": {
      "text/markdown": [
       "# What are the key concepts in philosophy?\n",
       " \n",
       "    Philosophy  is  a  vast  and  complex  field  that  encompasses  a  wide  range  of  topics  and    subfields.  Here  are  some  of  the  key  concepts  in  philosophy:\n",
       "   1.     Epistemology:  The  study  of  knowledge  and  how  we  acquire   it.  Key  concepts  include:\n",
       "   \t*    Justification:  What  makes  a  belief  justified?\n",
       "   \t*   Truth:  What  is   truth,  and  how  do  we  know  it?\n",
       "   \t*   Knowledge:  What  is   knowledge,  and  how  do  we  acquire  it?\n",
       "   2.     Metaphysics:  The  study"
      ],
      "text/plain": [
       "<IPython.core.display.Markdown object>"
      ]
     },
     "metadata": {},
     "output_type": "display_data"
    },
    {
     "data": {
      "text/markdown": [
       "# What are the biggest challenges in geography today?\n",
       " ?\n",
       "   Geography  is  a  broad  and  diverse   field,   encompassing  many   subfields  and  areas  of   study.  As   such,  the  challenges  faced  by   geographers  can  vary  widely  depending  on  the  specific  area  of   focus.   However,  here  are  some  of  the  biggest  challenges  in  geography  today:\n",
       "   1.  Climate  Change  and  Environmental     Degradation:  The  impacts  of  climate   change,  such  as  rising  sea   levels,  melting   glaciers,  and  extreme  weather   events,  are  being  felt   globally.   Geographers  are  working  to  understand  the  causes  and  consequences  of  these"
      ],
      "text/plain": [
       "<IPython.core.display.Markdown object>"
      ]
     },
     "metadata": {},
     "output_type": "display_data"
    },
    {
     "data": {
      "text/markdown": [
       "# What are the latest advancements in psychology?\n",
       " \n",
       "   Psychology  has  made  significant  progress  in  recent   years,  with  new  discoveries  and  advancements  in  various  areas  of  the   field.  Here  are  some  of  the  latest  developments  in  psychology:\n",
       "   1.        **Neuroplasticity**:  The  concept  of      neuroplasticity,  which  suggests  that  the  brain  can  change  and  adapt  throughout   life,  has  been  widely   accepted.  This  has  led  to  new  approaches  to  treating  mental  health   conditions,  such  as  depression  and  anxiety.\n",
       "   2.    **Mindfulness  and   meditation**:  Research  has  shown  that  mindfulness  and  meditation"
      ],
      "text/plain": [
       "<IPython.core.display.Markdown object>"
      ]
     },
     "metadata": {},
     "output_type": "display_data"
    },
    {
     "data": {
      "text/markdown": [
       "# What are some misconceptions about history?\n",
       "   What  are  some  common  myths  and  legends  that  have  been   debunked  by   historians?  How  do  these   misconceptions  affect  our  understanding  of  the  past?\n",
       "   Historians  have  a  crucial  role  in   debunking  myths  and   misconceptions  about   history,  ensuring  that  the  past  is  accurately  represented  and   understood.  Here  are  some  examples  of  common   misconceptions  about  history:\n",
       "   1.   **The  Vikings  were  only   barbaric    raiders**:   Historians  have  shown  that  the  Vikings  were  a  diverse  group  of  people  who  engaged  in   trade,   exploration,  and  cultural   exchange,"
      ],
      "text/plain": [
       "<IPython.core.display.Markdown object>"
      ]
     },
     "metadata": {},
     "output_type": "display_data"
    },
    {
     "data": {
      "text/markdown": [
       "# Who are the major contributors to ethics and why?\n",
       "   What  are  the  key  concepts  of  ethics  and  how  are  they  applied  in  various  fields?\n",
       "    Ethics,  a  branch  of  philosophy  that  deals  with  moral  principles  and   values,  has  been  shaped  by  the  contributions  of  many  thinkers  throughout   history.  The  major  contributors  to  ethics  can  be  broadly  categorized  into  three   groups:  ancient  Greek   philosophers,  modern   philosophers,  and  contemporary   ethicists.\n",
       "   Ancient  Greek   philosophers,  such  as    Socrates,   Plato,  and   Aristotle,  laid  the  foundation  for  Western   ethics.  They  explored  questions  about  the  nature  of   ethics,  the"
      ],
      "text/plain": [
       "<IPython.core.display.Markdown object>"
      ]
     },
     "metadata": {},
     "output_type": "display_data"
    },
    {
     "data": {
      "text/markdown": [
       "# How can economics be applied in real-world scenarios?\n",
       "   Economics  is  a  social  science  that  studies  how   individuals,   businesses,   governments,  and  societies  make  decisions  about  how  to  allocate  resources  to  meet  their  needs  and   wants.  It  is  a  broad  field  that  encompasses  various    subfields,  including     microeconomics,     macroeconomics,  international   trade,  and   econometrics.\n",
       "  Here  are  some  examples  of  how  economics  can  be  applied  in   real-world  scenarios:\n",
       "   1.   **Business   Strategy**:   Economists  can  help  businesses  make  informed  decisions  about   investments,   pricing,  and  production  levels  by  analyzing  market   trends,  competition"
      ],
      "text/plain": [
       "<IPython.core.display.Markdown object>"
      ]
     },
     "metadata": {},
     "output_type": "display_data"
    },
    {
     "data": {
      "text/markdown": [
       "# How does chemistry impact our daily lives?\n",
       " \n",
       "   Chemistry  is  all  around   us,  influencing  many  aspects  of  our  daily   lives,  from  the  food  we  eat  to  the  air  we   breathe.  Here  are  some  examples  of  how  chemistry  impacts  our  daily  lives:\n",
       "   1.  Food  and   Nutrition:  Chemistry  plays  a  crucial  role  in  the   production,   preservation,  and  preparation  of   food.  For   example,  chemistry  is  used  to  develop  new  food   products,  such  as  genetically  modified   crops,  and  to  preserve  food  through    canning,   freezing,  and     dehydrating.   Additionally,  chemistry  helps  us  understand"
      ],
      "text/plain": [
       "<IPython.core.display.Markdown object>"
      ]
     },
     "metadata": {},
     "output_type": "display_data"
    },
    {
     "data": {
      "text/markdown": [
       "# Explain the importance of psychology in modern society.\n",
       "   Essay\n",
       "   Psychology  plays  a  vital  role  in  modern   society,  as  it  affects  our  daily  lives  and  has  significant  implications  for  our    well-being,   relationships,  and  overall  quality  of   life.  The  importance  of  psychology  in  modern  society  can  be  seen  in  various  aspects  of   life,  including   education,   employment,   healthcare,  and  social  relationships.\n",
       "  One  of  the  most  significant  contributions  of  psychology  to  modern  society  is  its  impact  on   education.  Psychology  has  led  to  a  better  understanding  of  how  people  learn  and   develop,  which  has  improved  educational  outcomes  and  has"
      ],
      "text/plain": [
       "<IPython.core.display.Markdown object>"
      ]
     },
     "metadata": {},
     "output_type": "display_data"
    },
    {
     "data": {
      "text/markdown": [
       "# What are the key concepts in mathematics?\n",
       " \n",
       "   Mathematics  is  a  vast  and  diverse  field  that  encompasses  a  wide  range  of   concepts,   theories,  and   problem-solving   techniques.  Here  are  some  of  the  key  concepts  in   mathematics,  grouped  by  category:\n",
       "   1.  Number  Systems:\n",
       "   \t*  Natural  numbers    (1,    2,    3,...)\n",
       "   \t*   Integers   (...,    -3,    -2,    -1,    0,    1,    2,    3,...)\n",
       "   \t*  Rational  numbers     (fractions,  decimals)\n",
       "   \t*   Irrational  numbers"
      ],
      "text/plain": [
       "<IPython.core.display.Markdown object>"
      ]
     },
     "metadata": {},
     "output_type": "display_data"
    },
    {
     "data": {
      "text/markdown": [
       "# Who are the major contributors to medicine and why?\n",
       "   -  Essay  Example\n",
       "  The  essay  will  examine  the  contributions  of  four  medical   pioneers:    Hippocrates,    Galen,  Louis    Pasteur,  and    Sigmund   Freud,  and  explore  the  reasons  behind  their  groundbreaking  work.\n",
       "    Hippocrates   (460  BCE  –   370   BCE)  is  often  referred  to  as  the  father  of   medicine.  He  is  credited  with  establishing  the  concept  of  the   \"four    humors\"    (blood,     phlegm,  yellow   bile,  and  black   bile)  to  explain  human  health  and   disease.  His  emphasis  on  observation"
      ],
      "text/plain": [
       "<IPython.core.display.Markdown object>"
      ]
     },
     "metadata": {},
     "output_type": "display_data"
    },
    {
     "data": {
      "text/markdown": [
       "# What are the key concepts in art?\n",
       "   What  are  the  key  movements  in  art?\n",
       "  The  key  concepts  in  art  include:\n",
       "   Color:  Color  is  a  fundamental  element  of   art,  and  artists  use  it  to  create    moods,  convey   emotions,  and  express   ideas.  Different  colors  have  different   meanings,  and  artists  use  color  theory  to  create   harmonious  color  schemes.\n",
       "   Form:  Form  refers  to  the   three-dimensional  qualities  of  an   artwork,  such  as   shape,   volume,  and   texture.  Artists  use  form  to  create  visual  interest  and  to  express  their  ideas.\n",
       "   Line:  Line  is  a  fundamental"
      ],
      "text/plain": [
       "<IPython.core.display.Markdown object>"
      ]
     },
     "metadata": {},
     "output_type": "display_data"
    },
    {
     "data": {
      "text/markdown": [
       "# What are some misconceptions about technology?\n",
       "   What  are  some  common  myths  about  the  digital   world?  Here  are  some  examples:\n",
       "   1.     **Myth:  All  technology  is  created    equal.**   Reality:  Different  technologies  have  different  strengths  and   weaknesses.  For   example,  artificial  intelligence    (AI)  is  not  yet  capable  of   replicating  human   intelligence,  and  blockchain  technology  is  not   foolproof.\n",
       "   2.     **Myth:  The  internet  is  a  public    space.**   Reality:  The  internet  is  a  private  space  that  can  be  regulated  and   monitored.  Online  activities  can  be  tracked  and  recorded"
      ],
      "text/plain": [
       "<IPython.core.display.Markdown object>"
      ]
     },
     "metadata": {},
     "output_type": "display_data"
    },
    {
     "data": {
      "text/markdown": [
       "# What are some misconceptions about philosophy?\n",
       "   What  are  some  common   misconceptions  about  philosophy  that  you  think  people  often  have?\n",
       "   A:  There  are  several   misconceptions  about  philosophy  that  people  often   have.  Here  are  a  few:\n",
       "   1.  Philosophy  is  only  for   academics:  Philosophy  is  often  seen  as  a  subject  only  for  academics  or   scholars,  and  not  for  the  general   public.   However,  philosophy  is  for  anyone  who  wants  to  think  critically  about  the  world  and  their  place  in  it.\n",
       "   2.  Philosophy  is  only  about  abstract   concepts:  Many  people  think  that  philosophy  is  only  about  abstract"
      ],
      "text/plain": [
       "<IPython.core.display.Markdown object>"
      ]
     },
     "metadata": {},
     "output_type": "display_data"
    },
    {
     "data": {
      "text/markdown": [
       "# What are some ethical concerns related to technology?\n",
       "   what  are  some  of  the  solutions?\n",
       "   Ethical  concerns  related  to  technology  are  numerous  and   varied,  reflecting  the  rapidly  evolving  nature  of  technology  and  its  impact  on   society.  Here  are  some  of  the  most  significant   concerns,  along  with  potential  solutions:\n",
       "\n",
       "  ###    1.   **Bias  in  Artificial  Intelligence    (AI)  and  Machine  Learning    (ML)  Systems**\n",
       "\n",
       "  -    **Concern:**  AI  and  ML  systems  can   perpetuate  existing  biases  if  the  data  used  to  train  them  is   biased,  leading  to  unfair  outcomes.\n",
       "  -    **Solution:**  Implement  diverse  and"
      ],
      "text/plain": [
       "<IPython.core.display.Markdown object>"
      ]
     },
     "metadata": {},
     "output_type": "display_data"
    },
    {
     "data": {
      "text/markdown": [
       "# What are some misconceptions about economics?\n",
       "   What  are  some  things  that  people  commonly  misunderstand  about  economics?\n",
       "  Here  are  some  common   misconceptions  about  economics:\n",
       "   1.     Misconception:  Economic  growth  is  always   good.   Reality:  Economic  growth  is  not  always  good  if  it  is  not   sustainable.   Unsustainable  economic  growth  can  lead  to  environmental   degradation,  income   inequality,  and  social  injustice.\n",
       "   2.     Misconception:  Free  trade  always  benefits   everyone.   Reality:  Free  trade  can  have  negative  effects  on  certain   groups,  such  as  workers  in  industries  that  are  heavily  reliant  on  tariffs  or  other"
      ],
      "text/plain": [
       "<IPython.core.display.Markdown object>"
      ]
     },
     "metadata": {},
     "output_type": "display_data"
    },
    {
     "data": {
      "text/markdown": [
       "# What are the key concepts in sociology?\n",
       "   What  are  the  key  concepts  in  sociology?\n",
       "    Sociology  is  a  discipline  that  studies  human  social   behavior,   relationships,  and   institutions.  It  seeks  to  understand  how  individuals  and  groups  interact  and  influence  each  other  within  a  social   context.  Here  are  some  key  concepts  in  sociology:\n",
       "   1.  Social   Structure:  This  refers  to  the   patterned  and  stable  arrangements  of  social   relationships,   institutions,  and  relationships  that  exist  within  a   society.  Social  structures  include  social   classes,    castes,  and  ethnic  groups.\n",
       "   2.   Culture:  This  is  the  shared"
      ],
      "text/plain": [
       "<IPython.core.display.Markdown object>"
      ]
     },
     "metadata": {},
     "output_type": "display_data"
    },
    {
     "data": {
      "text/markdown": [
       "# How does space impact our daily lives?\n",
       "   How  can  we  better  understand  and  appreciate  the  impact  of  space  on  our  lives?\n",
       "  Space  is  often  seen  as  a  distant  and  abstract   concept,  but  it  has  a  profound  impact  on  our  daily   lives.  From  the  food  we  eat  to  the  weather  we   experience,  space  plays  a  crucial  role  in  shaping  our  environment  and  influencing  our    well-being.  Here  are  some  ways  space  impacts  our  daily  lives  and  how  we  can  better  understand  and  appreciate  its  impact:\n",
       "\n",
       "   1.   **Food   production:**  Space   weather,  such  as  solar   flares  and   coronal"
      ],
      "text/plain": [
       "<IPython.core.display.Markdown object>"
      ]
     },
     "metadata": {},
     "output_type": "display_data"
    },
    {
     "data": {
      "text/markdown": [
       "# Explain the importance of economics in modern society.\n",
       "   Economic  principles  can  be  applied  to  many  aspects  of   life,  such  as  personal   finance,   business,  and  government  policy.\n",
       "   Economics  is  a  crucial  aspect  of  modern   society,  influencing  various  aspects  of  our   lives.  Its  importance  can  be  seen  in  the  following  ways:\n",
       "   1.  Resource   allocation:  Economics  helps  in  determining  how  resources  are  allocated   efficiently.  It  ensures  that  resources  are  used  in  a  way  that   maximizes  their  value  and  meets  the  needs  of  the  society.\n",
       "   2.  Economic   growth:  Economics  plays  a  vital  role  in  promoting  economic  growth"
      ],
      "text/plain": [
       "<IPython.core.display.Markdown object>"
      ]
     },
     "metadata": {},
     "output_type": "display_data"
    },
    {
     "data": {
      "text/markdown": [
       "# What are the key concepts in science?\n",
       "   What  do  they  tell  us  about  the  natural  world?\n",
       "  Science  is  a  vast  and  diverse  field  that  encompasses  various   disciplines,  including   physics,   biology,   chemistry,  and   more.  At  its   core,  science  is  a  systematic  method  of   observing,   experimenting,  and  explaining  the  natural   world.  Here  are  some  key  concepts  in  science  that  help  us  understand  the  world  around  us:\n",
       "\n",
       "   1.   **The  Scientific   Method**:  A  systematic  process  for  testing  hypotheses  and  developing   theories.  It  involves  making   observations,  asking   questions,   formulating   hypotheses,  testing   predictions,"
      ],
      "text/plain": [
       "<IPython.core.display.Markdown object>"
      ]
     },
     "metadata": {},
     "output_type": "display_data"
    },
    {
     "data": {
      "text/markdown": [
       "# What are the latest advancements in politics?\n",
       "   what  are  the  current  challenges  in  politics  and  how  do  these  impact  the  political  landscape?\n",
       "  The  political  landscape  is  constantly   evolving,  with  new  developments  and  challenges  emerging   regularly.  Here  are  some  of  the  latest  advancements  in  politics  and  the  current  challenges  that  are  impacting  the  political  landscape:\n",
       "   Advancements:\n",
       "   1.  Digital   Politics:  The  increasing  use  of  digital   technologies,  such  as  social  media  and  online   campaigning,  is  changing  the  way  politicians  interact  with  voters  and  communicate  their  message.\n",
       "   2.  Global   Governance:  The  rise  of  international   institutions,  such  as"
      ],
      "text/plain": [
       "<IPython.core.display.Markdown object>"
      ]
     },
     "metadata": {},
     "output_type": "display_data"
    },
    {
     "data": {
      "text/markdown": [
       "# What are the key concepts in psychology?\n",
       " \n",
       "  There  are  many  key  concepts  in   psychology,  but  here  are  some  of  the  most  important  ones:\n",
       "   1.     **Behaviorism**:  The  study  of  observable   behavior,  including   learning,   conditioning,  and  behavior  modification.\n",
       "   2.     **Cognition**:  The  study  of  mental   processes,  including   perception,   attention,   memory,   language,    problem-solving,  and   decision-making.\n",
       "   3.     **Emotions**:  The  study  of  emotional   experiences,  including   feelings,    moods,  and  emotional  regulation.\n",
       "   4.     **Motivation**:  The  study  of  what"
      ],
      "text/plain": [
       "<IPython.core.display.Markdown object>"
      ]
     },
     "metadata": {},
     "output_type": "display_data"
    },
    {
     "data": {
      "text/markdown": [
       "# What are some ethical concerns related to medicine?\n",
       " \n",
       "   Ethical  concerns  related  to  medicine  can  be  broadly  categorized  into  several   areas,  including:\n",
       "   1.   **Patient    Autonomy**:  The  right  of  patients  to  make  informed  decisions  about  their  own  medical   care,  including  the  right  to  refuse  treatment.\n",
       "   2.    **Informed   Consent**:  The  requirement  that  patients  be  fully  informed  about  the  risks  and  benefits  of  medical   procedures,  including  the  potential  for  adverse  reactions  or  side  effects.\n",
       "   3.      **Confidentiality**:  The  duty  of  healthcare  providers  to  maintain  the  privacy  of   patients'  medical  information.\n",
       " "
      ],
      "text/plain": [
       "<IPython.core.display.Markdown object>"
      ]
     },
     "metadata": {},
     "output_type": "display_data"
    },
    {
     "data": {
      "text/markdown": [
       "# How has ai evolved over time?\n",
       " \n",
       "   Artificial  intelligence    (AI)  has  undergone  significant  evolution  over  the  past  several   decades,  transforming  from  a  theoretical  concept  to  a  practical  technology  with  numerous  applications  across  various   industries.   Here's  a  brief  overview  of  the  major  milestones  in  the  evolution  of  AI:\n",
       "\n",
       "      **1950s:  The  Dawn  of  AI**\n",
       "\n",
       "  *  The  term    \"Artificial   Intelligence\"  was  coined  by  John   McCarthy,  a  computer   scientist,  at  the    1956   Dartmouth  Summer  Research  Project  on  Artificial  Intelligence.\n",
       "  *  The  first  AI   program,  called  Logical   Theor"
      ],
      "text/plain": [
       "<IPython.core.display.Markdown object>"
      ]
     },
     "metadata": {},
     "output_type": "display_data"
    },
    {
     "data": {
      "text/markdown": [
       "# How does psychology impact our daily lives?\n",
       " \n",
       "   Psychology  is  the  study  of  the  human  mind  and   behavior,  and  its  impact  on  our  daily  lives  is  vast  and   profound.  Here  are  some  ways  psychology  influences  our  daily  experiences:\n",
       "   1.    Decision-making:  Psychology  helps  us  understand  how  we  make   decisions,  what   motivates   us,  and  how  we  can  make  better   choices.  By  understanding  cognitive   biases,  we  can  avoid  pitfalls  like  confirmation  bias  and  make  more  informed  decisions.\n",
       "   2.   Emotions  and  mental   health:  Psychology  provides  insights  into  how  our   emotions,   thoughts,  and  behaviors"
      ],
      "text/plain": [
       "<IPython.core.display.Markdown object>"
      ]
     },
     "metadata": {},
     "output_type": "display_data"
    },
    {
     "data": {
      "text/markdown": [
       "# What are some misconceptions about geography?\n",
       "   What  do  people  think  they   know,  but   don't?\n",
       "  Here  are  some   misconceptions  about  geography  that  people  often  have:\n",
       "   1.     **Myth:  The  United  States  and  Canada  share  a  common  border  with   Mexico.**\n",
       "   Reality:  The  United  States  shares  a  border  with  Canada  and   Mexico,  but  they  are  separate   borders.  The    US-Canada  border  is  the  longest  international  border  in  the   world,  while  the     US-Mexico  border  is  the    second-longest.\n",
       "   2.     **Myth:  The   world's  largest  desert  is"
      ],
      "text/plain": [
       "<IPython.core.display.Markdown object>"
      ]
     },
     "metadata": {},
     "output_type": "display_data"
    },
    {
     "data": {
      "text/markdown": [
       "# Who are the major contributors to biology and why?\n",
       "   What  are  some  of  the  key  findings  of  these  contributors?\n",
       "   Biology  is  the  scientific  study  of  living   organisms,  and  it  has  a  rich  history  of  contributions  from  many  scientists  over  the   centuries.  Here  are  some  of  the  major  contributors  to  biology  and  their  key  findings:\n",
       "\n",
       "   1.       **Aristotle     (384-322    BCE)**:  Aristotle  was  a  Greek  philosopher  and  scientist  who  made  significant  contributions  to  the  field  of   biology.  He  was  one  of  the  first  scientists  to  study  living  organisms  and  their   behavior.  His  work  on  classification"
      ],
      "text/plain": [
       "<IPython.core.display.Markdown object>"
      ]
     },
     "metadata": {},
     "output_type": "display_data"
    },
    {
     "data": {
      "text/markdown": [
       "# Who are the major contributors to mathematics and why?\n",
       "   Mathematics  is  a  vast  subject  that  has  been  developed  over  thousands  of  years  by  many   mathematicians  and   scientists.  From  ancient  civilizations  to  modern   times,   mathematicians  have  made  significant  contributions  to  the   field,  shaping  our  understanding  of   numbers,   geometry,   algebra,   calculus,  and   more.  Here  are  some  of  the  major  contributors  to  mathematics  and  their  contributions:\n",
       "   1.  Ancient  Greek   Mathematicians:\n",
       "   a.    Pythagoras    (c.     570-495   BCE):  Known  for  the    Pythagorean   theorem,  which  describes  the  relationship  between  the"
      ],
      "text/plain": [
       "<IPython.core.display.Markdown object>"
      ]
     },
     "metadata": {},
     "output_type": "display_data"
    },
    {
     "data": {
      "text/markdown": [
       "# Explain the importance of medicine in modern society.\n",
       "   Medicine  has  become  a  critical  component  of  modern   society,  playing  a  vital  role  in  maintaining  public   health,  preventing  and  treating   diseases,  and  improving  quality  of   life.  The  importance  of  medicine  can  be  understood  from  various   perspectives,  including  its  impact  on  individual   health,  the   economy,  and  society  as  a  whole.\n",
       "  On  an  individual   level,  medicine  is  essential  for  maintaining  physical  and  mental    well-being.  It  provides  treatments  for  various  health   conditions,  from  minor  ailments  to   life-threatening   diseases.  Medicine  helps  individuals  manage  chronic   conditions,  such  as  diabetes  and"
      ],
      "text/plain": [
       "<IPython.core.display.Markdown object>"
      ]
     },
     "metadata": {},
     "output_type": "display_data"
    },
    {
     "data": {
      "text/markdown": [
       "# How can art be applied in real-world scenarios?\n",
       "   We  often  think  of  art  as  something  that  exists  solely  in  the  realm  of   aesthetics,  but  the  truth  is  that  art  can  be  a  powerful  tool  for  social   change,   communication,  and    problem-solving.  Here  are  some  examples  of  how  art  can  be  applied  in   real-world  scenarios:\n",
       "   1.  Public  Health    Campaigns:  Art  can  be  used  to  raise  awareness  about  public  health   issues,  such  as  disease   prevention,  mental   health,  and   nutrition.  For   example,  the  World  Health  Organization    (WHO)  has  used  art  to  promote  vaccination  campaigns  and"
      ],
      "text/plain": [
       "<IPython.core.display.Markdown object>"
      ]
     },
     "metadata": {},
     "output_type": "display_data"
    },
    {
     "data": {
      "text/markdown": [
       "# What are some misconceptions about geography?\n",
       " \n",
       "   Geography  is  a  fascinating  field  that  involves  the  study  of  the   Earth's  physical   features,  human   populations,  and  the  relationships  between   them.   However,  there  are  several   misconceptions  about  geography  that  are  worth   correcting.  Here  are  some  examples:\n",
       "   1.  Geography  is  just  about   memorizing  countries  and  capitals:\n",
       "  This  is  a  common  misconception  about   geography.  While   it's  true  that  geography  involves  learning  about  countries  and   capitals,   it's  much  more  than   that.  Geography  is  a  holistic  field  that  involves  understanding  the  relationships  between  human  and  physical"
      ],
      "text/plain": [
       "<IPython.core.display.Markdown object>"
      ]
     },
     "metadata": {},
     "output_type": "display_data"
    },
    {
     "data": {
      "text/markdown": [
       "# What are some ethical concerns related to history?\n",
       " \n",
       "  History  can  raise  a  number  of  ethical   concerns,  including:\n",
       "   1.  Representation  and   interpretation:   Historians  must  carefully  consider  how  to  represent  different  groups  and  events  in  a  way  that  is  accurate  and   respectful.  This  can  be  particularly  challenging  when  dealing  with  sensitive  or  traumatic   events,  such  as  genocide  or  slavery.\n",
       "   2.  Bias  and    objectivity:   Historians  must  strive  to  present  their  findings  in  an  objective  and  unbiased   manner,  avoiding  personal  opinions  or  agendas  that  could  distort  the  historical  record.\n",
       "   3.  Cultural   appropriation:   Historians  must"
      ],
      "text/plain": [
       "<IPython.core.display.Markdown object>"
      ]
     },
     "metadata": {},
     "output_type": "display_data"
    },
    {
     "data": {
      "text/markdown": [
       "# Explain the importance of space in modern society.\n",
       "   The  importance  of  space  in  modern  society  cannot  be    overstated.  Space  exploration  and  development  have  been  crucial  to  various  aspects  of  modern   life,  from  communication  and  navigation  to  scientific  research  and  technological   innovation.  Here  are  some  reasons  why  space  is  important  in  modern  society:\n",
       "   1.   Communication:   Space-based  satellites  have   revolutionized   communication,  enabling  global  connectivity  and  facilitating  international   communication.   Satellites  in  orbit  around  the  Earth  provide  coverage  for   telecommunications,   navigation,  weather   forecasting,  and   broadcasting,  connecting  people  and  businesses  worldwide.\n",
       "   2.   Navigation:  Space"
      ],
      "text/plain": [
       "<IPython.core.display.Markdown object>"
      ]
     },
     "metadata": {},
     "output_type": "display_data"
    },
    {
     "data": {
      "text/markdown": [
       "# What are some ethical concerns related to psychology?\n",
       " \n",
       "  There  are  several  ethical  concerns  related  to   psychology.  Here  are  some  of  the  most  significant  ones:\n",
       "   1.   Informed   Consent:   Ensuring  that  clients  or  research  participants  understand  the   purpose,   risks,  and  benefits  of  a  study  or   treatment,  and  provide  their  consent  before  participating.\n",
       "   2.    Confidentiality:   Protecting  the  privacy  of  clients  or  research   participants,  and  maintaining  confidentiality  of  their  personal  information.\n",
       "   3.  Respect  for    Autonomy:   Respecting  the  rights  and  decisions  of  clients  or  research   participants,  and  avoiding  coercion  or  manipulation"
      ],
      "text/plain": [
       "<IPython.core.display.Markdown object>"
      ]
     },
     "metadata": {},
     "output_type": "display_data"
    },
    {
     "data": {
      "text/markdown": [
       "# How has geography evolved over time?\n",
       " \n",
       "    Geography,  as  a  field  of   study,  has  undergone  significant  changes  and  developments  over   time.  From  its  origins  in  ancient  civilizations  to  its  current  status  as  a    multidisciplinary   field,  geography  has  evolved  in  response  to  changing  societal   needs,  technological   advancements,  and  shifts  in  the  way  we  understand  the   world.   Here's  a  brief  overview  of  the  major  developments  in  the  evolution  of  geography:\n",
       "\n",
       "    **Ancient  Period    (3000  BCE  -   500   CE)**\n",
       "\n",
       "  *  Geography  originated  in  ancient   civilizations,  such  as    Mesopotam"
      ],
      "text/plain": [
       "<IPython.core.display.Markdown object>"
      ]
     },
     "metadata": {},
     "output_type": "display_data"
    },
    {
     "data": {
      "text/markdown": [
       "# What are some ethical concerns related to chemistry?\n",
       "  What  are  some  ethical  concerns  related  to  chemistry?\n",
       "   Chemistry  has  a  wide  range  of  applications  and  can  be  used  to  develop  new   technologies,  improve  our  understanding  of  the  natural   world,  and  provide  solutions  to  various  environmental  and  health   problems.   However,  with  these  benefits  come  ethical  concerns  that  need  to  be   addressed.  Here  are  some  of  the  most  significant  ethical  concerns  related  to  chemistry:\n",
       "   1.     **Toxicity  and  Environmental   Impact**:  Many  chemicals  used  in  industrial   processes,  agricultural   applications,  and  consumer  products  can  be  harmful  to  human  health"
      ],
      "text/plain": [
       "<IPython.core.display.Markdown object>"
      ]
     },
     "metadata": {},
     "output_type": "display_data"
    },
    {
     "data": {
      "text/markdown": [
       "# What are some ethical concerns related to ai?\n",
       " \n",
       "  There  are  several  ethical  concerns  related  to   AI,  including:\n",
       "   1.  Bias  and   discrimination:  AI  systems  can   perpetuate  and  even  amplify  existing  biases  and  discrimination  if  they  are  trained  on  biased  data  or  designed  with  a  particular  worldview.\n",
       "   2.  Job   displacement:  AI  has  the  potential  to  automate  many   jobs,  which  could  lead  to  significant  job  displacement  and  social  disruption.\n",
       "   3.  Lack  of  transparency  and   accountability:  AI  systems  can  be  complex  and  difficult  to   understand,  making  it  challenging  to  determine  how  they  make  decisions  and  who  is  responsible"
      ],
      "text/plain": [
       "<IPython.core.display.Markdown object>"
      ]
     },
     "metadata": {},
     "output_type": "display_data"
    },
    {
     "name": "stdout",
     "output_type": "stream",
     "text": [
      "Total execution time: 27.49 seconds\n",
      "Avg. token generation time (of the model): 5.5 ms\n",
      "Avg. token generation time (per customer): 274.9 ms\n"
     ]
    }
   ],
   "source": [
    "def generate_text(texts, model, tokenizer, device, max_tokens):\n",
    "    \n",
    "    inputs = tokenizer(texts, return_tensors=\"pt\", padding=True, truncation=True).to(model.device)\n",
    "    streamer = BatchTextIteratorStreamer(batch_size = len(texts), tokenizer = tokenizer, skip_special_tokens=True, skip_prompt=True)\n",
    "\n",
    "    generation_kwargs = dict(inputs, \n",
    "                             do_sample=True, \n",
    "                             temperature=0.7, \n",
    "                             top_k=50, \n",
    "                             streamer=streamer,\n",
    "                             max_new_tokens=max_tokens, \n",
    "                             eos_token_id=model.config.eos_token_id)\n",
    "    \n",
    "    thread = Thread(target=model.generate, kwargs=generation_kwargs)\n",
    "    thread.start()\n",
    "\n",
    "    for new_text in streamer:\n",
    "        yield new_text  # Yield the text as it's generated\n",
    "\n",
    "\n",
    "max_tokens = 100\n",
    "no_of_users = 50\n",
    "\n",
    "df = pd.read_csv(\"dataset/random_questions.csv\")\n",
    "texts = list(df['Question'])\n",
    "texts = texts[:no_of_users]\n",
    "\n",
    "start_time = time.time()\n",
    "\n",
    "answers = [\"\" for i in range(len(texts))] \n",
    "total_time = 0\n",
    "for new_text in generate_text(texts, model, tokenizer, device, max_tokens):\n",
    "    # Clear output and update display\n",
    "    clear_output(wait=True)\n",
    "    for i in range(len(texts)):\n",
    "        answers[i] += \" \" + new_text[i]\n",
    "        display(Markdown(f\"# {texts[i]}\\n{answers[i]}\"))\n",
    "\n",
    "total_time = time.time() - start_time\n",
    "print(\"Total execution time:\", round(total_time,2), \"seconds\")\n",
    "print(\"Avg. token generation time (of the model):\", round((total_time/(max_tokens*len(texts)))*1000,2), \"ms\")\n",
    "print(\"Avg. token generation time (per customer):\", round((total_time/max_tokens)*1000,2), \"ms\")"
   ]
  },
  {
   "cell_type": "code",
   "execution_count": null,
   "id": "b1f126b1-aabe-4a88-bdc9-c48acdf61d41",
   "metadata": {},
   "outputs": [],
   "source": []
  }
 ],
 "metadata": {
  "kernelspec": {
   "display_name": "Python 3 (ipykernel)",
   "language": "python",
   "name": "python3"
  },
  "language_info": {
   "codemirror_mode": {
    "name": "ipython",
    "version": 3
   },
   "file_extension": ".py",
   "mimetype": "text/x-python",
   "name": "python",
   "nbconvert_exporter": "python",
   "pygments_lexer": "ipython3",
   "version": "3.9.6"
  }
 },
 "nbformat": 4,
 "nbformat_minor": 5
}
